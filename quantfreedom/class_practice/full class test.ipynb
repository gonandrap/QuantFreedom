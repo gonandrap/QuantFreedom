{
 "cells": [
  {
   "cell_type": "code",
   "execution_count": null,
   "metadata": {},
   "outputs": [],
   "source": [
    "# import os\n",
    "# import sys\n",
    "\n",
    "# sys.dont_write_bytecode = True\n",
    "# os.environ[\"NUMBA_DISABLE_JIT\"] = \"1\""
   ]
  },
  {
   "cell_type": "code",
   "execution_count": null,
   "metadata": {
    "collapsed": true
   },
   "outputs": [],
   "source": [
    "import pandas as pd\n",
    "import numpy as np\n",
    "from quantfreedom.class_practice.enums import *\n",
    "from quantfreedom.class_practice.base import backtest_df_only, backtest_sim_6, plot_one_result\n",
    "from quantfreedom.class_practice.helper_funcs import create_os_cart_product_nb\n",
    "from quantfreedom.indicators.talib_ind import from_talib\n",
    "\n",
    "\n",
    "\n",
    "price_data = pd.read_hdf(\"../../tests/data/prices.hd5\")\n",
    "%load_ext autoreload\n",
    "%autoreload 2\n"
   ]
  },
  {
   "cell_type": "code",
   "execution_count": null,
   "metadata": {},
   "outputs": [],
   "source": [
    "price_data['BTCUSDT']"
   ]
  },
  {
   "cell_type": "code",
   "execution_count": null,
   "metadata": {},
   "outputs": [],
   "source": [
    "rsi_ind = from_talib(\n",
    "    func_name='rsi',\n",
    "    nickname='rsi',\n",
    "    price_data=price_data,\n",
    "    input_names = ['close'],\n",
    "    parameters = {'timeperiod': [15, 20]}\n",
    ")\n",
    "entries = rsi_ind.is_below(\n",
    "    user_args=[40, 50],\n",
    "    candle_ohlc=\"close\",\n",
    ")"
   ]
  },
  {
   "cell_type": "code",
   "execution_count": null,
   "metadata": {},
   "outputs": [],
   "source": [
    "account_state = AccountState()\n",
    "backtest_settings = BacktestSettings(\n",
    "    divide_records_array_size_by=2,\n",
    "    gains_pct_filter=10.0,\n",
    "    total_trade_filter=10,\n",
    "    upside_filter=0.0,\n",
    ")\n",
    "exchange_settings = ExchangeSettings()\n",
    "order_settings_arrays = OrderSettingsArrays(\n",
    "    risk_account_pct_size=np.array([1.0]) / 100,\n",
    "    sl_based_on_add_pct=np.array([0.01, .02]) / 100,\n",
    "    sl_based_on_lookback=np.array([50]),\n",
    "    risk_reward=np.array([2.0, 5.0]),\n",
    "    leverage_type=np.array([LeverageType.Dynamic]),\n",
    "    sl_candle_body_type=np.array([CandleBodyType.Low]),\n",
    "    increase_position_type=np.array([IncreasePositionType.RiskPctAccountEntrySize]),\n",
    "    stop_loss_type=np.array([StopLossType.SLBasedOnCandleBody]),\n",
    "    take_profit_type=np.array([TakeProfitType.RiskReward]),\n",
    "    max_equity_risk_pct=np.array([3]) / 100,\n",
    "    order_type=np.array([OrderType.Long]),\n",
    "    sl_to_be_based_on_candle_body_type=np.array([CandleBodyType.Nothing]),\n",
    "    sl_to_be_when_pct_from_candle_body=np.array([0.0]) / 100,\n",
    "    sl_to_be_zero_or_entry_type=np.array([SLToBeZeroOrEntryType.Nothing]),\n",
    "    trail_sl_based_on_candle_body_type=np.array([CandleBodyType.High]),\n",
    "    trail_sl_when_pct_from_candle_body=np.array([3.0]) / 100,\n",
    "    trail_sl_by_pct=np.array([1.0]) / 100,\n",
    "    static_leverage=np.array([0.0]),\n",
    "    tp_fee_type=np.array([TakeProfitFeeType.Limit]),\n",
    ")"
   ]
  },
  {
   "cell_type": "code",
   "execution_count": null,
   "metadata": {},
   "outputs": [],
   "source": [
    "os_cart_arrays = create_os_cart_product_nb(order_settings_arrays=order_settings_arrays)"
   ]
  },
  {
   "cell_type": "code",
   "execution_count": null,
   "metadata": {},
   "outputs": [],
   "source": [
    "list(price_data.columns.levels[0])"
   ]
  },
  {
   "cell_type": "code",
   "execution_count": null,
   "metadata": {
    "collapsed": false
   },
   "outputs": [],
   "source": [
    "strat_res_df = backtest_df_only(\n",
    "    account_state=account_state,\n",
    "    os_cart_arrays=os_cart_arrays,\n",
    "    backtest_settings=backtest_settings,\n",
    "    exchange_settings=exchange_settings,\n",
    "    price_data=price_data['EOSUSD'],\n",
    "    entries=entries['EOSUSD'],\n",
    ")"
   ]
  },
  {
   "cell_type": "code",
   "execution_count": null,
   "metadata": {},
   "outputs": [],
   "source": [
    "strat_res_df"
   ]
  },
  {
   "cell_type": "code",
   "execution_count": null,
   "metadata": {},
   "outputs": [],
   "source": [
    "order_records_df = backtest_sim_6(\n",
    "    account_state=account_state,\n",
    "    os_cart_arrays=os_cart_arrays,\n",
    "    exchange_settings=exchange_settings,\n",
    "    price_data=price_data[\"EOSUSD\"],\n",
    "    entries=entries[\"EOSUSD\"],\n",
    "    strat_indexes=[0, 2, 4],\n",
    "    strat_res_df=strat_res_df,\n",
    ")"
   ]
  },
  {
   "cell_type": "code",
   "execution_count": null,
   "metadata": {},
   "outputs": [],
   "source": [
    "order_records_df"
   ]
  },
  {
   "cell_type": "code",
   "execution_count": null,
   "metadata": {},
   "outputs": [],
   "source": [
    "plot_one_result(\n",
    "    strat_res_df=strat_res_df,\n",
    "    strat_result_index=0,\n",
    "    price_data=price_data[\"EOSUSD\"],\n",
    "    order_records_df=order_records_df,\n",
    ")"
   ]
  }
 ],
 "metadata": {
  "kernelspec": {
   "display_name": "Python 3 (ipykernel)",
   "language": "python",
   "name": "python3"
  },
  "language_info": {
   "codemirror_mode": {
    "name": "ipython",
    "version": 3
   },
   "file_extension": ".py",
   "mimetype": "text/x-python",
   "name": "python",
   "nbconvert_exporter": "python",
   "pygments_lexer": "ipython3",
   "version": "3.10.10"
  }
 },
 "nbformat": 4,
 "nbformat_minor": 1
}
