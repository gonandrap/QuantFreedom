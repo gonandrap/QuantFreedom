{
 "cells": [
  {
   "cell_type": "code",
   "execution_count": 1,
   "metadata": {},
   "outputs": [
    {
     "ename": "ImportError",
     "evalue": "cannot import name 'simulate_up_to_6_nb' from 'quantfreedom.nb.simulate' (e:\\coding\\backtesters\\quantfreedom\\quantfreedom\\nb\\simulate.py)",
     "output_type": "error",
     "traceback": [
      "\u001b[1;31m---------------------------------------------------------------------------\u001b[0m",
      "\u001b[1;31mImportError\u001b[0m                               Traceback (most recent call last)",
      "\u001b[1;32me:\\Coding\\backtesters\\QuantFreedom\\tests\\finished tests\\full test.ipynb Cell 1\u001b[0m line \u001b[0;36m1\n\u001b[0;32m     <a href='vscode-notebook-cell:/e%3A/Coding/backtesters/QuantFreedom/tests/finished%20tests/full%20test.ipynb#W0sZmlsZQ%3D%3D?line=9'>10</a>\u001b[0m \u001b[39mfrom\u001b[39;00m \u001b[39mquantfreedom\u001b[39;00m\u001b[39m.\u001b[39;00m\u001b[39mdata\u001b[39;00m\u001b[39m.\u001b[39;00m\u001b[39mdata_dl\u001b[39;00m \u001b[39mimport\u001b[39;00m data_download_from_ccxt\n\u001b[0;32m     <a href='vscode-notebook-cell:/e%3A/Coding/backtesters/QuantFreedom/tests/finished%20tests/full%20test.ipynb#W0sZmlsZQ%3D%3D?line=10'>11</a>\u001b[0m \u001b[39mfrom\u001b[39;00m \u001b[39mquantfreedom\u001b[39;00m\u001b[39m.\u001b[39;00m\u001b[39mbase\u001b[39;00m \u001b[39mimport\u001b[39;00m backtest_df_only\n\u001b[1;32m---> <a href='vscode-notebook-cell:/e%3A/Coding/backtesters/QuantFreedom/tests/finished%20tests/full%20test.ipynb#W0sZmlsZQ%3D%3D?line=11'>12</a>\u001b[0m \u001b[39mfrom\u001b[39;00m \u001b[39mquantfreedom\u001b[39;00m\u001b[39m.\u001b[39;00m\u001b[39mnb\u001b[39;00m\u001b[39m.\u001b[39;00m\u001b[39msimulate\u001b[39;00m \u001b[39mimport\u001b[39;00m simulate_up_to_6_nb\n\u001b[0;32m     <a href='vscode-notebook-cell:/e%3A/Coding/backtesters/QuantFreedom/tests/finished%20tests/full%20test.ipynb#W0sZmlsZQ%3D%3D?line=12'>13</a>\u001b[0m \u001b[39mfrom\u001b[39;00m \u001b[39mquantfreedom\u001b[39;00m\u001b[39m.\u001b[39;00m\u001b[39mevaluators\u001b[39;00m\u001b[39m.\u001b[39;00m\u001b[39mevaluators\u001b[39;00m \u001b[39mimport\u001b[39;00m is_below\n\u001b[0;32m     <a href='vscode-notebook-cell:/e%3A/Coding/backtesters/QuantFreedom/tests/finished%20tests/full%20test.ipynb#W0sZmlsZQ%3D%3D?line=13'>14</a>\u001b[0m \u001b[39mfrom\u001b[39;00m \u001b[39mquantfreedom\u001b[39;00m\u001b[39m.\u001b[39;00m\u001b[39mindicators\u001b[39;00m\u001b[39m.\u001b[39;00m\u001b[39mtalib_ind\u001b[39;00m \u001b[39mimport\u001b[39;00m from_talib\n",
      "\u001b[1;31mImportError\u001b[0m: cannot import name 'simulate_up_to_6_nb' from 'quantfreedom.nb.simulate' (e:\\coding\\backtesters\\quantfreedom\\quantfreedom\\nb\\simulate.py)"
     ]
    }
   ],
   "source": [
    "import os\n",
    "import sys\n",
    "\n",
    "sys.dont_write_bytecode = True\n",
    "os.environ[\"NUMBA_DISABLE_JIT\"] = \"1\"\n",
    "\n",
    "import numpy as np\n",
    "import pandas as pd\n",
    "\n",
    "from quantfreedom.data.data_dl import data_download_from_ccxt\n",
    "from quantfreedom.base import backtest_df_only\n",
    "from quantfreedom.nb.simulate import simulate_up_to_6_nb\n",
    "from quantfreedom.evaluators.evaluators import is_below\n",
    "from quantfreedom.indicators.talib_ind import from_talib\n",
    "from quantfreedom.enums.enums import (\n",
    "    LeverageMode,\n",
    "    SizeType,\n",
    "    OrderType,\n",
    "    CandleBody,\n",
    ")\n",
    "from quantfreedom.enums.enums import Arrays1dTuple\n",
    "from quantfreedom.plotting.strat_dashboard import strat_dashboard\n",
    "\n",
    "np.set_printoptions(formatter={\"float_kind\": \"{:.2f}\".format})\n",
    "pd.options.display.float_format = \"{:,.2f}\".format\n",
    "\n",
    "# prices = data_download_from_ccxt(\n",
    "#     exchange='bybit',\n",
    "#     start='2020-10-01T00:00:00Z',\n",
    "#     end='2021-04-15T00:00:00Z',\n",
    "#     symbols=['BTCUSDT', 'ETHUSD'],\n",
    "#     timeframe='30m',\n",
    "# )\n",
    "\n",
    "# prices.to_hdf(\"yt_prices.hd5\", key='data')\n",
    "price_data = pd.read_hdf('../data/prices.hd5')\n",
    "rsi_ind = from_talib(\n",
    "    func_name=\"rsi\",\n",
    "    price_data=price_data,\n",
    "    cart_product=False,\n",
    "    combos=False,\n",
    "    timeperiod=[15, 30],\n",
    ")\n",
    "entries = is_below(\n",
    "    want_to_evaluate=rsi_ind,\n",
    "    user_args=[40, 50],\n",
    "    candle_ohlc=\"close\",\n",
    ")"
   ]
  },
  {
   "cell_type": "code",
   "execution_count": null,
   "metadata": {},
   "outputs": [],
   "source": [
    "strat_results_df, settings_results_df = backtest_df_only(\n",
    "    price_data=price_data,\n",
    "    entries=entries,\n",
    "    equity=1000.0,\n",
    "    fee_pct=0.06,\n",
    "    mmr_pct=0.5,\n",
    "    lev_mode=LeverageMode.LeastFreeCashUsed,\n",
    "    size_type=SizeType.RiskPercentOfAccount,\n",
    "    order_type=OrderType.LongEntry,\n",
    "    max_equity_risk_pct=np.arange(7, 8.1, 1),\n",
    "    risk_rewards=4,\n",
    "    size_pct=1.0,\n",
    "    # sl_pcts=np.arange(1,3.1,1),\n",
    "    tsl_true_or_false=True,\n",
    "    tsl_pcts_init=8,\n",
    "    tsl_based_on=CandleBody.low,\n",
    "    tsl_trail_by_pct=8,\n",
    "    tsl_when_pct_from_avg_entry=np.arange(3, 4.1, 1),\n",
    "    gains_pct_filter=150,\n",
    "    upside_filter=0.6,\n",
    "    divide_records_array_size_by=2,\n",
    ")"
   ]
  },
  {
   "cell_type": "code",
   "execution_count": null,
   "metadata": {},
   "outputs": [],
   "source": [
    "order_records = simulate_up_to_6_nb(\n",
    "    prices=price_data['ETHUSD'].values,\n",
    "    entries=entries.iloc[:,[11]].values,\n",
    "    equity=1000.0,\n",
    "    fee_pct=0.06,\n",
    "    mmr_pct=0.5,\n",
    "    lev_mode=LeverageMode.LeastFreeCashUsed,\n",
    "    size_type=SizeType.RiskPercentOfAccount,\n",
    "    order_type=OrderType.LongEntry,\n",
    "    max_equity_risk_pct=8,\n",
    "    risk_rewards=3,\n",
    "    size_pct=1.0,\n",
    "    # sl_pcts=np.arange(1,3.1,1),\n",
    "    tsl_true_or_false=True,\n",
    "    tsl_based_on=CandleBody.low,\n",
    "    tsl_pcts_init=8,\n",
    "    tsl_trail_by_pct=8,\n",
    "    tsl_when_pct_from_avg_entry=3,\n",
    "    # gains_pct_filter=100,\n",
    ")"
   ]
  },
  {
   "cell_type": "code",
   "execution_count": null,
   "metadata": {},
   "outputs": [],
   "source": [
    "indicator_dict = {\n",
    "    \"indicator1\": {\n",
    "        \"values1\": rsi_ind[[('ETHUSD', 30)]],\n",
    "        \"entries1\": entries.iloc[:,[11]],\n",
    "    },\n",
    "}\n",
    "strat_dashboard(\n",
    "    indicator_dict=indicator_dict,\n",
    "    prices=price_data.ETHUSD,\n",
    "    order_records=order_records,\n",
    ")"
   ]
  }
 ],
 "metadata": {
  "kernelspec": {
   "display_name": "qfFree",
   "language": "python",
   "name": "python3"
  },
  "language_info": {
   "codemirror_mode": {
    "name": "ipython",
    "version": 3
   },
   "file_extension": ".py",
   "mimetype": "text/x-python",
   "name": "python",
   "nbconvert_exporter": "python",
   "pygments_lexer": "ipython3",
   "version": "3.10.10"
  },
  "orig_nbformat": 4
 },
 "nbformat": 4,
 "nbformat_minor": 2
}
