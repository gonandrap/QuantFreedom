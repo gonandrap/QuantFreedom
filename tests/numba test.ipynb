{
  "cells": [
    {
      "cell_type": "code",
      "execution_count": 1,
      "metadata": {},
      "outputs": [],
      "source": [
        "# import os\n",
        "# import sys\n",
        "\n",
        "# sys.dont_write_bytecode = True\n",
        "# os.environ[\"NUMBA_DISABLE_JIT\"] = \"1\"\n",
        "\n",
        "import numpy as np\n",
        "from numba import int32, float32, typed, typeof    # import the types\n",
        "from numba.experimental import jitclass\n",
        "%load_ext autoreload\n",
        "%autoreload 2"
      ]
    },
    {
      "cell_type": "code",
      "execution_count": 2,
      "metadata": {},
      "outputs": [
        {
          "ename": "TypeError",
          "evalue": "class members are not yet supported: leverage_calculator",
          "output_type": "error",
          "traceback": [
            "\u001b[1;31m---------------------------------------------------------------------------\u001b[0m",
            "\u001b[1;31mTypeError\u001b[0m                                 Traceback (most recent call last)",
            "\u001b[1;32me:\\Coding\\backtesters\\QuantFreedom\\tests\\numba test.ipynb Cell 2\u001b[0m line \u001b[0;36m2\n\u001b[0;32m      <a href='vscode-notebook-cell:/e%3A/Coding/backtesters/QuantFreedom/tests/numba%20test.ipynb#W4sZmlsZQ%3D%3D?line=0'>1</a>\u001b[0m \u001b[39m@jitclass\u001b[39;49m()\n\u001b[1;32m----> <a href='vscode-notebook-cell:/e%3A/Coding/backtesters/QuantFreedom/tests/numba%20test.ipynb#W4sZmlsZQ%3D%3D?line=1'>2</a>\u001b[0m \u001b[39mclass\u001b[39;49;00m \u001b[39mLeverageLong\u001b[39;49;00m:\n\u001b[0;32m      <a href='vscode-notebook-cell:/e%3A/Coding/backtesters/QuantFreedom/tests/numba%20test.ipynb#W4sZmlsZQ%3D%3D?line=2'>3</a>\u001b[0m     leverage_calculator \u001b[39m=\u001b[39;49m \u001b[39mNone\u001b[39;49;00m\n\u001b[0;32m      <a href='vscode-notebook-cell:/e%3A/Coding/backtesters/QuantFreedom/tests/numba%20test.ipynb#W4sZmlsZQ%3D%3D?line=4'>5</a>\u001b[0m     \u001b[39mdef\u001b[39;49;00m \u001b[39m__init__\u001b[39;49m(\n\u001b[0;32m      <a href='vscode-notebook-cell:/e%3A/Coding/backtesters/QuantFreedom/tests/numba%20test.ipynb#W4sZmlsZQ%3D%3D?line=5'>6</a>\u001b[0m         \u001b[39mself\u001b[39;49m,\n\u001b[0;32m      <a href='vscode-notebook-cell:/e%3A/Coding/backtesters/QuantFreedom/tests/numba%20test.ipynb#W4sZmlsZQ%3D%3D?line=6'>7</a>\u001b[0m         leverage_type: \u001b[39mint\u001b[39;49m,\n\u001b[0;32m      <a href='vscode-notebook-cell:/e%3A/Coding/backtesters/QuantFreedom/tests/numba%20test.ipynb#W4sZmlsZQ%3D%3D?line=7'>8</a>\u001b[0m     ):\n",
            "File \u001b[1;32me:\\Coding\\virtual environments\\qfFree\\lib\\site-packages\\numba\\experimental\\jitclass\\decorators.py:77\u001b[0m, in \u001b[0;36mjitclass.<locals>.wrap\u001b[1;34m(cls)\u001b[0m\n\u001b[0;32m     74\u001b[0m \u001b[39melse\u001b[39;00m:\n\u001b[0;32m     75\u001b[0m     \u001b[39mfrom\u001b[39;00m \u001b[39mnumba\u001b[39;00m\u001b[39m.\u001b[39;00m\u001b[39mexperimental\u001b[39;00m\u001b[39m.\u001b[39;00m\u001b[39mjitclass\u001b[39;00m\u001b[39m.\u001b[39;00m\u001b[39mbase\u001b[39;00m \u001b[39mimport\u001b[39;00m (register_class_type,\n\u001b[0;32m     76\u001b[0m                                                   ClassBuilder)\n\u001b[1;32m---> 77\u001b[0m     cls_jitted \u001b[39m=\u001b[39m register_class_type(\u001b[39mcls\u001b[39;49m, spec, types\u001b[39m.\u001b[39;49mClassType,\n\u001b[0;32m     78\u001b[0m                                      ClassBuilder)\n\u001b[0;32m     80\u001b[0m     \u001b[39m# Preserve the module name of the original class\u001b[39;00m\n\u001b[0;32m     81\u001b[0m     cls_jitted\u001b[39m.\u001b[39m\u001b[39m__module__\u001b[39m \u001b[39m=\u001b[39m \u001b[39mcls\u001b[39m\u001b[39m.\u001b[39m\u001b[39m__module__\u001b[39m\n",
            "File \u001b[1;32me:\\Coding\\virtual environments\\qfFree\\lib\\site-packages\\numba\\experimental\\jitclass\\base.py:213\u001b[0m, in \u001b[0;36mregister_class_type\u001b[1;34m(cls, spec, class_ctor, builder)\u001b[0m\n\u001b[0;32m    211\u001b[0m     msg \u001b[39m=\u001b[39m \u001b[39m\"\u001b[39m\u001b[39mclass members are not yet supported: \u001b[39m\u001b[39m{0}\u001b[39;00m\u001b[39m\"\u001b[39m\n\u001b[0;32m    212\u001b[0m     members \u001b[39m=\u001b[39m \u001b[39m'\u001b[39m\u001b[39m, \u001b[39m\u001b[39m'\u001b[39m\u001b[39m.\u001b[39mjoin(others\u001b[39m.\u001b[39mkeys())\n\u001b[1;32m--> 213\u001b[0m     \u001b[39mraise\u001b[39;00m \u001b[39mTypeError\u001b[39;00m(msg\u001b[39m.\u001b[39mformat(members))\n\u001b[0;32m    215\u001b[0m \u001b[39mfor\u001b[39;00m k, v \u001b[39min\u001b[39;00m props\u001b[39m.\u001b[39mitems():\n\u001b[0;32m    216\u001b[0m     \u001b[39mif\u001b[39;00m v\u001b[39m.\u001b[39mfdel \u001b[39mis\u001b[39;00m \u001b[39mnot\u001b[39;00m \u001b[39mNone\u001b[39;00m:\n",
            "\u001b[1;31mTypeError\u001b[0m: class members are not yet supported: leverage_calculator"
          ]
        }
      ],
      "source": [
        "@jitclass()\n",
        "class LeverageLong:\n",
        "    leverage_calculator = None\n",
        "\n",
        "    def __init__(\n",
        "        self,\n",
        "        leverage_type: int,\n",
        "    ):\n",
        "        if leverage_type == 0:\n",
        "            self.leverage_calculator = self.set_static_leverage\n",
        "        elif leverage_type == 1:\n",
        "            self.leverage_calculator = self.calculate_dynamic_leverage\n",
        "\n",
        "    def set_static_leverage(self):\n",
        "        return 5\n",
        "\n",
        "    def calculate_dynamic_leverage(self):\n",
        "        return 9"
      ]
    },
    {
      "cell_type": "code",
      "execution_count": null,
      "metadata": {},
      "outputs": [],
      "source": [
        "lev = LeverageLong(1)\n",
        "for i in range(10):\n",
        "    print(lev.leverage_calculator())"
      ]
    }
  ],
  "metadata": {
    "kernelspec": {
      "display_name": "qfFree",
      "language": "python",
      "name": "python3"
    },
    "language_info": {
      "codemirror_mode": {
        "name": "ipython",
        "version": 3
      },
      "file_extension": ".py",
      "mimetype": "text/x-python",
      "name": "python",
      "nbconvert_exporter": "python",
      "pygments_lexer": "ipython3",
      "version": "3.10.10"
    },
    "orig_nbformat": 4
  },
  "nbformat": 4,
  "nbformat_minor": 2
}
