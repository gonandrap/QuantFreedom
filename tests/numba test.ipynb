{
  "cells": [
    {
      "cell_type": "code",
      "execution_count": 27,
      "metadata": {},
      "outputs": [
        {
          "name": "stdout",
          "output_type": "stream",
          "text": [
            "The autoreload extension is already loaded. To reload it, use:\n",
            "  %reload_ext autoreload\n"
          ]
        }
      ],
      "source": [
        "import numpy as np\n",
        "from numba import int32, float32, typed, typeof    # import the types\n",
        "from numba.experimental import jitclass\n",
        "%load_ext autoreload\n",
        "%autoreload 2"
      ]
    },
    {
      "cell_type": "code",
      "execution_count": 32,
      "metadata": {},
      "outputs": [],
      "source": [
        "@jitclass()\n",
        "class LeverageLong():\n",
        "    leverage_calculator: None\n",
        "\n",
        "    def __init__(\n",
        "        self,\n",
        "        leverage_type: int,\n",
        "    ):\n",
        "        if leverage_type == 0:\n",
        "            self.leverage_calculator = self.set_static_leverage\n",
        "        elif leverage_type == 1:\n",
        "            self.leverage_calculator = self.calculate_dynamic_leverage\n",
        "        # self.leverage_calculator = self.calculate_dynamic_leverage\n",
        "\n",
        "    def set_static_leverage(\n",
        "        self,\n",
        "    ):\n",
        "        return 5 + 4\n",
        "\n",
        "    def calculate_dynamic_leverage(\n",
        "        self,\n",
        "    ):\n",
        "        return 9 + 9"
      ]
    },
    {
      "cell_type": "code",
      "execution_count": 35,
      "metadata": {},
      "outputs": [
        {
          "ename": "TypingError",
          "evalue": "Failed in nopython mode pipeline (step: nopython frontend)\n\u001b[1m\u001b[1m\u001b[1m\u001b[1mFailed in nopython mode pipeline (step: native lowering)\n\u001b[1m\u001b[1mCannot cast BoundFunction((<class 'numba.core.types.misc.ClassInstanceType'>, 'set_static_leverage') for instance.jitclass.LeverageLong#22e858e8be0<leverage_calculator:none>) to none: %\".17\" = load {i8*, {i8*}*}, {i8*, {i8*}*}* %\"self\"\u001b[0m\n\u001b[0m\u001b[1mDuring: lowering \"(self).leverage_calculator = $12load_attr.1\" at C:\\Users\\User\\AppData\\Local\\Temp\\ipykernel_20404\\3878684178.py (10)\u001b[0m\n\u001b[0m\u001b[1mDuring: resolving callee type: jitclass.LeverageLong#22e858e8be0<leverage_calculator:none>\u001b[0m\n\u001b[0m\u001b[1mDuring: typing of call at <string> (3)\n\u001b[0m\n\u001b[0m\u001b[1mDuring: resolving callee type: jitclass.LeverageLong#22e858e8be0<leverage_calculator:none>\u001b[0m\n\u001b[0m\u001b[1mDuring: typing of call at <string> (3)\n\u001b[0m\n\u001b[1m\nFile \"<string>\", line 3:\u001b[0m\n\u001b[1m<source missing, REPL/exec in use?>\u001b[0m\n",
          "output_type": "error",
          "traceback": [
            "\u001b[1;31m---------------------------------------------------------------------------\u001b[0m",
            "\u001b[1;31mTypingError\u001b[0m                               Traceback (most recent call last)",
            "\u001b[1;32me:\\Coding\\backtesters\\QuantFreedom\\tests\\numba test.ipynb Cell 3\u001b[0m line \u001b[0;36m1\n\u001b[1;32m----> <a href='vscode-notebook-cell:/e%3A/Coding/backtesters/QuantFreedom/tests/numba%20test.ipynb#W3sZmlsZQ%3D%3D?line=0'>1</a>\u001b[0m LeverageLong(leverage_type\u001b[39m=\u001b[39;49m\u001b[39m1\u001b[39;49m)\n",
            "File \u001b[1;32me:\\Coding\\virtual environments\\qfFree\\lib\\site-packages\\numba\\experimental\\jitclass\\base.py:124\u001b[0m, in \u001b[0;36mJitClassType.__call__\u001b[1;34m(cls, *args, **kwargs)\u001b[0m\n\u001b[0;32m    122\u001b[0m bind \u001b[39m=\u001b[39m \u001b[39mcls\u001b[39m\u001b[39m.\u001b[39m_ctor_sig\u001b[39m.\u001b[39mbind(\u001b[39mNone\u001b[39;00m, \u001b[39m*\u001b[39margs, \u001b[39m*\u001b[39m\u001b[39m*\u001b[39mkwargs)\n\u001b[0;32m    123\u001b[0m bind\u001b[39m.\u001b[39mapply_defaults()\n\u001b[1;32m--> 124\u001b[0m \u001b[39mreturn\u001b[39;00m \u001b[39mcls\u001b[39m\u001b[39m.\u001b[39m_ctor(\u001b[39m*\u001b[39mbind\u001b[39m.\u001b[39margs[\u001b[39m1\u001b[39m:], \u001b[39m*\u001b[39m\u001b[39m*\u001b[39mbind\u001b[39m.\u001b[39mkwargs)\n",
            "File \u001b[1;32me:\\Coding\\virtual environments\\qfFree\\lib\\site-packages\\numba\\core\\dispatcher.py:468\u001b[0m, in \u001b[0;36m_DispatcherBase._compile_for_args\u001b[1;34m(self, *args, **kws)\u001b[0m\n\u001b[0;32m    464\u001b[0m         msg \u001b[39m=\u001b[39m (\u001b[39mf\u001b[39m\u001b[39m\"\u001b[39m\u001b[39m{\u001b[39;00m\u001b[39mstr\u001b[39m(e)\u001b[39m.\u001b[39mrstrip()\u001b[39m}\u001b[39;00m\u001b[39m \u001b[39m\u001b[39m\\n\u001b[39;00m\u001b[39m\\n\u001b[39;00m\u001b[39mThis error may have been caused \u001b[39m\u001b[39m\"\u001b[39m\n\u001b[0;32m    465\u001b[0m                \u001b[39mf\u001b[39m\u001b[39m\"\u001b[39m\u001b[39mby the following argument(s):\u001b[39m\u001b[39m\\n\u001b[39;00m\u001b[39m{\u001b[39;00margs_str\u001b[39m}\u001b[39;00m\u001b[39m\\n\u001b[39;00m\u001b[39m\"\u001b[39m)\n\u001b[0;32m    466\u001b[0m         e\u001b[39m.\u001b[39mpatch_message(msg)\n\u001b[1;32m--> 468\u001b[0m     error_rewrite(e, \u001b[39m'\u001b[39;49m\u001b[39mtyping\u001b[39;49m\u001b[39m'\u001b[39;49m)\n\u001b[0;32m    469\u001b[0m \u001b[39mexcept\u001b[39;00m errors\u001b[39m.\u001b[39mUnsupportedError \u001b[39mas\u001b[39;00m e:\n\u001b[0;32m    470\u001b[0m     \u001b[39m# Something unsupported is present in the user code, add help info\u001b[39;00m\n\u001b[0;32m    471\u001b[0m     error_rewrite(e, \u001b[39m'\u001b[39m\u001b[39munsupported_error\u001b[39m\u001b[39m'\u001b[39m)\n",
            "File \u001b[1;32me:\\Coding\\virtual environments\\qfFree\\lib\\site-packages\\numba\\core\\dispatcher.py:409\u001b[0m, in \u001b[0;36m_DispatcherBase._compile_for_args.<locals>.error_rewrite\u001b[1;34m(e, issue_type)\u001b[0m\n\u001b[0;32m    407\u001b[0m     \u001b[39mraise\u001b[39;00m e\n\u001b[0;32m    408\u001b[0m \u001b[39melse\u001b[39;00m:\n\u001b[1;32m--> 409\u001b[0m     \u001b[39mraise\u001b[39;00m e\u001b[39m.\u001b[39mwith_traceback(\u001b[39mNone\u001b[39;00m)\n",
            "\u001b[1;31mTypingError\u001b[0m: Failed in nopython mode pipeline (step: nopython frontend)\n\u001b[1m\u001b[1m\u001b[1m\u001b[1mFailed in nopython mode pipeline (step: native lowering)\n\u001b[1m\u001b[1mCannot cast BoundFunction((<class 'numba.core.types.misc.ClassInstanceType'>, 'set_static_leverage') for instance.jitclass.LeverageLong#22e858e8be0<leverage_calculator:none>) to none: %\".17\" = load {i8*, {i8*}*}, {i8*, {i8*}*}* %\"self\"\u001b[0m\n\u001b[0m\u001b[1mDuring: lowering \"(self).leverage_calculator = $12load_attr.1\" at C:\\Users\\User\\AppData\\Local\\Temp\\ipykernel_20404\\3878684178.py (10)\u001b[0m\n\u001b[0m\u001b[1mDuring: resolving callee type: jitclass.LeverageLong#22e858e8be0<leverage_calculator:none>\u001b[0m\n\u001b[0m\u001b[1mDuring: typing of call at <string> (3)\n\u001b[0m\n\u001b[0m\u001b[1mDuring: resolving callee type: jitclass.LeverageLong#22e858e8be0<leverage_calculator:none>\u001b[0m\n\u001b[0m\u001b[1mDuring: typing of call at <string> (3)\n\u001b[0m\n\u001b[1m\nFile \"<string>\", line 3:\u001b[0m\n\u001b[1m<source missing, REPL/exec in use?>\u001b[0m\n"
          ]
        }
      ],
      "source": [
        "LeverageLong(leverage_type=1)"
      ]
    }
  ],
  "metadata": {
    "kernelspec": {
      "display_name": "qfFree",
      "language": "python",
      "name": "python3"
    },
    "language_info": {
      "codemirror_mode": {
        "name": "ipython",
        "version": 3
      },
      "file_extension": ".py",
      "mimetype": "text/x-python",
      "name": "python",
      "nbconvert_exporter": "python",
      "pygments_lexer": "ipython3",
      "version": "3.10.10"
    },
    "orig_nbformat": 4
  },
  "nbformat": 4,
  "nbformat_minor": 2
}
